{
  "nbformat": 4,
  "nbformat_minor": 0,
  "metadata": {
    "colab": {
      "provenance": [],
      "gpuType": "T4"
    },
    "kernelspec": {
      "name": "python3",
      "display_name": "Python 3"
    },
    "language_info": {
      "name": "python"
    },
    "accelerator": "GPU"
  },
  "cells": [
    {
      "cell_type": "markdown",
      "source": [
        "Libraries"
      ],
      "metadata": {
        "id": "uuQYEVnln7mt"
      }
    },
    {
      "cell_type": "code",
      "source": [
        "import numpy as np\n",
        "import matplotlib.pyplot as plt\n",
        "import tensorflow as tf\n",
        "from tensorflow import keras\n",
        "from keras import layers\n",
        "from keras import models\n",
        "from keras.datasets import reuters\n",
        "from keras import regularizers\n",
        "from itertools import islice\n",
        "from keras.utils import to_categorical\n",
        "from sklearn.model_selection import GridSearchCV\n",
        "from sklearn.model_selection import KFold\n",
        "from scikeras.wrappers import KerasClassifier\n",
        "from scikeras.wrappers import KerasRegressor\n",
        "from keras.models import Sequential\n",
        "from keras.layers import Dense\n",
        "import matplotlib.pyplot as plt\n",
        "import seaborn as sns\n",
        "from sklearn.model_selection import train_test_split\n",
        "from sklearn.metrics import accuracy_score, precision_score, recall_score, f1_score, classification_report, confusion_matrix"
      ],
      "metadata": {
        "id": "HGWvgMlt2w2v"
      },
      "execution_count": null,
      "outputs": []
    },
    {
      "cell_type": "markdown",
      "source": [
        "Data ingestion"
      ],
      "metadata": {
        "id": "WERVBHmpn6Av"
      }
    },
    {
      "cell_type": "code",
      "source": [
        "NUM_WORDS = 10000"
      ],
      "metadata": {
        "id": "IuInqDME22hZ"
      },
      "execution_count": null,
      "outputs": []
    },
    {
      "cell_type": "code",
      "source": [
        "(X_train, y_train), (X_test, y_test) = reuters.load_data(num_words=NUM_WORDS)"
      ],
      "metadata": {
        "id": "IaoQxDoSmGHK",
        "colab": {
          "base_uri": "https://localhost:8080/"
        },
        "outputId": "17b8dfdc-7e32-4fd1-a566-a9c8b97dada9"
      },
      "execution_count": null,
      "outputs": [
        {
          "output_type": "stream",
          "name": "stdout",
          "text": [
            "Downloading data from https://storage.googleapis.com/tensorflow/tf-keras-datasets/reuters.npz\n",
            "2110848/2110848 [==============================] - 1s 0us/step\n"
          ]
        }
      ]
    },
    {
      "cell_type": "code",
      "source": [
        "print(\"Lenght X_train:\", len(X_train))\n",
        "print(\"Lenght X_test:\", len(X_test))\n",
        "\n",
        "print(\"Lenght y_train:\", len(y_train))\n",
        "print(\"Lenght y_test:\", len(y_test))"
      ],
      "metadata": {
        "colab": {
          "base_uri": "https://localhost:8080/"
        },
        "id": "fvg0kroOmuCg",
        "outputId": "6e9c1e4c-b839-4ac2-8e15-a3ce5844fe27"
      },
      "execution_count": null,
      "outputs": [
        {
          "output_type": "stream",
          "name": "stdout",
          "text": [
            "Lenght X_train: 8982\n",
            "Lenght X_test: 2246\n",
            "Lenght y_train: 8982\n",
            "Lenght y_test: 2246\n"
          ]
        }
      ]
    },
    {
      "cell_type": "code",
      "source": [
        "print(X_train[0])"
      ],
      "metadata": {
        "colab": {
          "base_uri": "https://localhost:8080/"
        },
        "id": "0ji7ydxcmenP",
        "outputId": "38df06fb-31a4-4746-ff4f-43cdf7e6f33e"
      },
      "execution_count": null,
      "outputs": [
        {
          "output_type": "stream",
          "name": "stdout",
          "text": [
            "[1, 2, 2, 8, 43, 10, 447, 5, 25, 207, 270, 5, 3095, 111, 16, 369, 186, 90, 67, 7, 89, 5, 19, 102, 6, 19, 124, 15, 90, 67, 84, 22, 482, 26, 7, 48, 4, 49, 8, 864, 39, 209, 154, 6, 151, 6, 83, 11, 15, 22, 155, 11, 15, 7, 48, 9, 4579, 1005, 504, 6, 258, 6, 272, 11, 15, 22, 134, 44, 11, 15, 16, 8, 197, 1245, 90, 67, 52, 29, 209, 30, 32, 132, 6, 109, 15, 17, 12]\n"
          ]
        }
      ]
    },
    {
      "cell_type": "code",
      "source": [
        "print(y_train[0])"
      ],
      "metadata": {
        "colab": {
          "base_uri": "https://localhost:8080/"
        },
        "id": "-RuR1rrkmjnQ",
        "outputId": "ca5a8969-6280-4427-a060-d2d9d3c2e668"
      },
      "execution_count": null,
      "outputs": [
        {
          "output_type": "stream",
          "name": "stdout",
          "text": [
            "3\n"
          ]
        }
      ]
    },
    {
      "cell_type": "code",
      "source": [
        "words_dict = reuters.get_word_index()\n",
        "limited_words_dict = dict(islice(words_dict.items(), 5))\n",
        "print(limited_words_dict)"
      ],
      "metadata": {
        "colab": {
          "base_uri": "https://localhost:8080/"
        },
        "id": "4pVRHNYUoIFl",
        "outputId": "80f64e76-ceae-45db-8eb8-2188a1233011"
      },
      "execution_count": null,
      "outputs": [
        {
          "output_type": "stream",
          "name": "stdout",
          "text": [
            "Downloading data from https://storage.googleapis.com/tensorflow/tf-keras-datasets/reuters_word_index.json\n",
            "550378/550378 [==============================] - 0s 1us/step\n",
            "{'mdbl': 10996, 'fawc': 16260, 'degussa': 12089, 'woods': 8803, 'hanging': 13796}\n"
          ]
        }
      ]
    },
    {
      "cell_type": "code",
      "source": [
        "reversed_words_dict = dict([(value, key) for (key, value) in words_dict.items()])\n",
        "decoded_dict = \" \".join([reversed_words_dict.get(i - 3, '?') for i in X_train[0]])\n",
        "decoded_dict"
      ],
      "metadata": {
        "colab": {
          "base_uri": "https://localhost:8080/",
          "height": 70
        },
        "id": "prvjb1kyo20t",
        "outputId": "7eb1c248-c71f-483f-9353-8c7ede495f2e"
      },
      "execution_count": null,
      "outputs": [
        {
          "output_type": "execute_result",
          "data": {
            "text/plain": [
              "'? ? ? said as a result of its december acquisition of space co it expects earnings per share in 1987 of 1 15 to 1 30 dlrs per share up from 70 cts in 1986 the company said pretax net should rise to nine to 10 mln dlrs from six mln dlrs in 1986 and rental operation revenues to 19 to 22 mln dlrs from 12 5 mln dlrs it said cash flow per share this year should be 2 50 to three dlrs reuter 3'"
            ],
            "application/vnd.google.colaboratory.intrinsic+json": {
              "type": "string"
            }
          },
          "metadata": {},
          "execution_count": 10
        }
      ]
    },
    {
      "cell_type": "code",
      "source": [
        "decoded_y = reuters.get_label_names()\n",
        "\n",
        "print(\"Labels in Reuters:\")\n",
        "for index, label_name in enumerate(decoded_y):\n",
        "    print(f\"{index + 1}. {label_name}\")"
      ],
      "metadata": {
        "colab": {
          "base_uri": "https://localhost:8080/"
        },
        "id": "at5G827h0GZW",
        "outputId": "3c7faf05-0464-4c21-842e-d0ae12c05d2e"
      },
      "execution_count": null,
      "outputs": [
        {
          "output_type": "stream",
          "name": "stdout",
          "text": [
            "Labels in Reuters:\n",
            "1. cocoa\n",
            "2. grain\n",
            "3. veg-oil\n",
            "4. earn\n",
            "5. acq\n",
            "6. wheat\n",
            "7. copper\n",
            "8. housing\n",
            "9. money-supply\n",
            "10. coffee\n",
            "11. sugar\n",
            "12. trade\n",
            "13. reserves\n",
            "14. ship\n",
            "15. cotton\n",
            "16. carcass\n",
            "17. crude\n",
            "18. nat-gas\n",
            "19. cpi\n",
            "20. money-fx\n",
            "21. interest\n",
            "22. gnp\n",
            "23. meal-feed\n",
            "24. alum\n",
            "25. oilseed\n",
            "26. gold\n",
            "27. tin\n",
            "28. strategic-metal\n",
            "29. livestock\n",
            "30. retail\n",
            "31. ipi\n",
            "32. iron-steel\n",
            "33. rubber\n",
            "34. heat\n",
            "35. jobs\n",
            "36. lei\n",
            "37. bop\n",
            "38. zinc\n",
            "39. orange\n",
            "40. pet-chem\n",
            "41. dlr\n",
            "42. gas\n",
            "43. silver\n",
            "44. wpi\n",
            "45. hog\n",
            "46. lead\n"
          ]
        }
      ]
    },
    {
      "cell_type": "code",
      "source": [
        "def vectorize_sequences(sequences, dimension=10000):\n",
        "    results = np.zeros((len(sequences), dimension))\n",
        "    for i, sequence in enumerate(sequences):\n",
        "        results[i, sequence] = 1\n",
        "    return results\n",
        "\n",
        "\n",
        "X_train = vectorize_sequences(X_train)\n",
        "X_test = vectorize_sequences(X_test)\n",
        "\n",
        "print(f'X_train sample : {X_train[0]}')\n",
        "print(f'X_test sample : {X_test[0]}')"
      ],
      "metadata": {
        "colab": {
          "base_uri": "https://localhost:8080/"
        },
        "id": "CbcUsB5x07qE",
        "outputId": "0f7435f8-dadb-430c-a936-cc748fade9d3"
      },
      "execution_count": null,
      "outputs": [
        {
          "output_type": "stream",
          "name": "stdout",
          "text": [
            "X_train sample : [0. 1. 1. ... 0. 0. 0.]\n",
            "X_test sample : [0. 1. 1. ... 0. 0. 0.]\n"
          ]
        }
      ]
    },
    {
      "cell_type": "code",
      "source": [
        "print(f'X_train shape : {X_train.shape}')\n",
        "print(f'X_test shape : {X_test.shape}')"
      ],
      "metadata": {
        "colab": {
          "base_uri": "https://localhost:8080/"
        },
        "id": "ARwk3PKA2BRm",
        "outputId": "6b74852f-94f4-4024-a7e2-1efa6394faf9"
      },
      "execution_count": null,
      "outputs": [
        {
          "output_type": "stream",
          "name": "stdout",
          "text": [
            "X_train shape : (8982, 10000)\n",
            "X_test shape : (2246, 10000)\n"
          ]
        }
      ]
    },
    {
      "cell_type": "code",
      "source": [
        "def to_one_hot(labels, dimension=46):\n",
        "    results = np.zeros((len(labels), dimension))\n",
        "    for i,label in enumerate(labels):\n",
        "        results[i,label] = 1\n",
        "    return results\n",
        "\n",
        "one_hot_train_labels = to_categorical(y_train)\n",
        "one_hot_test_labels = to_categorical(y_test)\n",
        "\n",
        "print(f'one_hot_train_labels sample : {one_hot_train_labels[0]}')"
      ],
      "metadata": {
        "colab": {
          "base_uri": "https://localhost:8080/"
        },
        "id": "SD-Zfc_h-ug9",
        "outputId": "118ca3a5-4c1d-4623-977a-7fa1b68aa035"
      },
      "execution_count": null,
      "outputs": [
        {
          "output_type": "stream",
          "name": "stdout",
          "text": [
            "one_hot_train_labels sample : [0. 0. 0. 1. 0. 0. 0. 0. 0. 0. 0. 0. 0. 0. 0. 0. 0. 0. 0. 0. 0. 0. 0. 0.\n",
            " 0. 0. 0. 0. 0. 0. 0. 0. 0. 0. 0. 0. 0. 0. 0. 0. 0. 0. 0. 0. 0. 0.]\n"
          ]
        }
      ]
    },
    {
      "cell_type": "code",
      "source": [
        "X_train_val, X_val, y_train_val, y_val = train_test_split(X_train, one_hot_train_labels, test_size=0.25, random_state=42)\n",
        "\n",
        "print(\"x_val \", X_val.shape)\n",
        "print(\"y_val \", y_val.shape)\n",
        "\n",
        "print(\"X_train_val \", X_train_val.shape)\n",
        "print(\"y_train_val \", y_train_val.shape)"
      ],
      "metadata": {
        "colab": {
          "base_uri": "https://localhost:8080/"
        },
        "id": "u04BuSVtH1LX",
        "outputId": "3f5f5eb0-1d9e-41db-a9a9-687c14eb31e3"
      },
      "execution_count": null,
      "outputs": [
        {
          "output_type": "stream",
          "name": "stdout",
          "text": [
            "x_val  (2246, 10000)\n",
            "y_val  (2246, 46)\n",
            "X_train_val  (6736, 10000)\n",
            "y_train_val  (6736, 46)\n"
          ]
        }
      ]
    },
    {
      "cell_type": "code",
      "source": [
        "def count_label_occurrences(labels):\n",
        "    unique_labels, occurrences = np.unique(labels, return_counts=True)\n",
        "    return dict(zip(unique_labels, occurrences))\n",
        "\n",
        "train_occurrences = count_label_occurrences(y_train_val)\n",
        "val_occurrences = count_label_occurrences(y_val)\n",
        "\n",
        "print(\"Occurrences of labels in training set:\", train_occurrences)\n",
        "print(\"Occurrences of labels in validation set:\", val_occurrences)"
      ],
      "metadata": {
        "colab": {
          "base_uri": "https://localhost:8080/"
        },
        "id": "GjJR8Z0cB5QC",
        "outputId": "e15138c5-c340-465b-c76c-870662dc137b"
      },
      "execution_count": null,
      "outputs": [
        {
          "output_type": "stream",
          "name": "stdout",
          "text": [
            "Occurrences of labels in training set: {0.0: 303120, 1.0: 6736}\n",
            "Occurrences of labels in validation set: {0.0: 101070, 1.0: 2246}\n"
          ]
        }
      ]
    },
    {
      "cell_type": "markdown",
      "source": [
        "Class distribution"
      ],
      "metadata": {
        "id": "K2G3C_o3F_gr"
      }
    },
    {
      "cell_type": "code",
      "source": [
        "unique_classes_train = np.sum(y_train_val, axis=0) / y_train_val.shape[0] * 100\n",
        "\n",
        "plt.bar(np.arange(len(unique_classes_train)), unique_classes_train)\n",
        "plt.xlabel('Class Label')\n",
        "plt.ylabel('Label % in dataset')\n",
        "plt.title('Class Distribution in Reuters Train_val Dataset')\n",
        "\n",
        "plt.show()"
      ],
      "metadata": {
        "colab": {
          "base_uri": "https://localhost:8080/",
          "height": 472
        },
        "id": "zIYFipRJGBVy",
        "outputId": "4677a7ff-4aff-494c-b7f6-62dc58f12558"
      },
      "execution_count": null,
      "outputs": [
        {
          "output_type": "display_data",
          "data": {
            "text/plain": [
              "<Figure size 640x480 with 1 Axes>"
            ],
            "image/png": "[encoded data removed]"
          },
          "metadata": {}
        }
      ]
    },
    {
      "cell_type": "code",
      "source": [
        "unique_classes_test = np.sum(y_val, axis=0) / y_val.shape[0] * 100\n",
        "\n",
        "plt.bar(np.arange(len(unique_classes_test)), unique_classes_test)\n",
        "plt.xlabel('Class Label')\n",
        "plt.ylabel('Label % in dataset')\n",
        "plt.title('Class Distribution in Reuters test_val Dataset')\n",
        "\n",
        "plt.show()"
      ],
      "metadata": {
        "colab": {
          "base_uri": "https://localhost:8080/",
          "height": 472
        },
        "id": "zeCoeWLuGPpg",
        "outputId": "61efb185-e1a6-414a-8f6c-4ead23944fb7"
      },
      "execution_count": null,
      "outputs": [
        {
          "output_type": "display_data",
          "data": {
            "text/plain": [
              "<Figure size 640x480 with 1 Axes>"
            ],
            "image/png": "[encoded data removed]"
          },
          "metadata": {}
        }
      ]
    },
    {
      "cell_type": "markdown",
      "source": [
        "Building the network"
      ],
      "metadata": {
        "id": "gV3rd-yADWNE"
      }
    },
    {
      "cell_type": "code",
      "source": [
        "def create_model(optimizer='adam', activation='relu', epochs=8, batch_size=256):\n",
        "    model = Sequential()\n",
        "    model.add(Dense(128, activation=activation, input_shape=(10000,), kernel_regularizer=regularizers.l2(0.001)))\n",
        "    model.add(Dense(64, activation=activation, kernel_regularizer=regularizers.l2(0.001)))\n",
        "    model.add(Dense(32, activation=activation, kernel_regularizer=regularizers.l2(0.001)))\n",
        "    model.add(Dense(16, activation=activation, kernel_regularizer=regularizers.l2(0.001)))\n",
        "    model.add(Dense(46, activation='softmax'))\n",
        "    model.compile(optimizer=optimizer, loss='categorical_crossentropy', metrics=['accuracy'])\n",
        "    return model"
      ],
      "metadata": {
        "id": "Ilzjw1rlDaNI"
      },
      "execution_count": null,
      "outputs": []
    },
    {
      "cell_type": "markdown",
      "source": [
        "GridSearchCV"
      ],
      "metadata": {
        "id": "fU0TiuJ-qV-8"
      }
    },
    {
      "cell_type": "code",
      "source": [
        "param_grid = {\n",
        "    'build_fn': [create_model],\n",
        "    'optimizer': ['adam', 'rmsprop'],\n",
        "    'epochs': [8, 16],\n",
        "    'batch_size': [256, 512]\n",
        "}\n",
        "\n",
        "grid = GridSearchCV(estimator=KerasClassifier(verbose=0),\n",
        "                    param_grid=param_grid, cv=KFold(n_splits=3), verbose=1)\n",
        "\n",
        "grid_result = grid.fit(X_train_val, y_train_val)\n",
        "\n",
        "print(\"Best: %f using %s\" % (grid_result.best_score_, grid_result.best_params_))"
      ],
      "metadata": {
        "colab": {
          "base_uri": "https://localhost:8080/"
        },
        "id": "4K5xHTwoEJGT",
        "outputId": "939c60c5-f7bb-4f37-be70-21af6270b223"
      },
      "execution_count": null,
      "outputs": [
        {
          "output_type": "stream",
          "name": "stdout",
          "text": [
            "Fitting 3 folds for each of 8 candidates, totalling 24 fits\n"
          ]
        },
        {
          "output_type": "stream",
          "name": "stderr",
          "text": [
            "/usr/local/lib/python3.10/dist-packages/scikeras/wrappers.py:915: UserWarning: ``build_fn`` will be renamed to ``model`` in a future release, at which point use of ``build_fn`` will raise an Error instead.\n",
            "  X, y = self._initialize(X, y)\n",
            "/usr/local/lib/python3.10/dist-packages/scikeras/wrappers.py:915: UserWarning: ``build_fn`` will be renamed to ``model`` in a future release, at which point use of ``build_fn`` will raise an Error instead.\n",
            "  X, y = self._initialize(X, y)\n",
            "/usr/local/lib/python3.10/dist-packages/scikeras/wrappers.py:915: UserWarning: ``build_fn`` will be renamed to ``model`` in a future release, at which point use of ``build_fn`` will raise an Error instead.\n",
            "  X, y = self._initialize(X, y)\n",
            "/usr/local/lib/python3.10/dist-packages/scikeras/wrappers.py:915: UserWarning: ``build_fn`` will be renamed to ``model`` in a future release, at which point use of ``build_fn`` will raise an Error instead.\n",
            "  X, y = self._initialize(X, y)\n",
            "/usr/local/lib/python3.10/dist-packages/scikeras/wrappers.py:915: UserWarning: ``build_fn`` will be renamed to ``model`` in a future release, at which point use of ``build_fn`` will raise an Error instead.\n",
            "  X, y = self._initialize(X, y)\n",
            "/usr/local/lib/python3.10/dist-packages/scikeras/wrappers.py:915: UserWarning: ``build_fn`` will be renamed to ``model`` in a future release, at which point use of ``build_fn`` will raise an Error instead.\n",
            "  X, y = self._initialize(X, y)\n",
            "/usr/local/lib/python3.10/dist-packages/scikeras/wrappers.py:915: UserWarning: ``build_fn`` will be renamed to ``model`` in a future release, at which point use of ``build_fn`` will raise an Error instead.\n",
            "  X, y = self._initialize(X, y)\n",
            "/usr/local/lib/python3.10/dist-packages/scikeras/wrappers.py:915: UserWarning: ``build_fn`` will be renamed to ``model`` in a future release, at which point use of ``build_fn`` will raise an Error instead.\n",
            "  X, y = self._initialize(X, y)\n",
            "/usr/local/lib/python3.10/dist-packages/scikeras/wrappers.py:915: UserWarning: ``build_fn`` will be renamed to ``model`` in a future release, at which point use of ``build_fn`` will raise an Error instead.\n",
            "  X, y = self._initialize(X, y)\n",
            "/usr/local/lib/python3.10/dist-packages/scikeras/wrappers.py:915: UserWarning: ``build_fn`` will be renamed to ``model`` in a future release, at which point use of ``build_fn`` will raise an Error instead.\n",
            "  X, y = self._initialize(X, y)\n",
            "/usr/local/lib/python3.10/dist-packages/scikeras/wrappers.py:915: UserWarning: ``build_fn`` will be renamed to ``model`` in a future release, at which point use of ``build_fn`` will raise an Error instead.\n",
            "  X, y = self._initialize(X, y)\n",
            "/usr/local/lib/python3.10/dist-packages/scikeras/wrappers.py:915: UserWarning: ``build_fn`` will be renamed to ``model`` in a future release, at which point use of ``build_fn`` will raise an Error instead.\n",
            "  X, y = self._initialize(X, y)\n",
            "/usr/local/lib/python3.10/dist-packages/scikeras/wrappers.py:915: UserWarning: ``build_fn`` will be renamed to ``model`` in a future release, at which point use of ``build_fn`` will raise an Error instead.\n",
            "  X, y = self._initialize(X, y)\n",
            "/usr/local/lib/python3.10/dist-packages/scikeras/wrappers.py:915: UserWarning: ``build_fn`` will be renamed to ``model`` in a future release, at which point use of ``build_fn`` will raise an Error instead.\n",
            "  X, y = self._initialize(X, y)\n",
            "/usr/local/lib/python3.10/dist-packages/scikeras/wrappers.py:915: UserWarning: ``build_fn`` will be renamed to ``model`` in a future release, at which point use of ``build_fn`` will raise an Error instead.\n",
            "  X, y = self._initialize(X, y)\n",
            "/usr/local/lib/python3.10/dist-packages/scikeras/wrappers.py:915: UserWarning: ``build_fn`` will be renamed to ``model`` in a future release, at which point use of ``build_fn`` will raise an Error instead.\n",
            "  X, y = self._initialize(X, y)\n",
            "/usr/local/lib/python3.10/dist-packages/scikeras/wrappers.py:915: UserWarning: ``build_fn`` will be renamed to ``model`` in a future release, at which point use of ``build_fn`` will raise an Error instead.\n",
            "  X, y = self._initialize(X, y)\n",
            "/usr/local/lib/python3.10/dist-packages/scikeras/wrappers.py:915: UserWarning: ``build_fn`` will be renamed to ``model`` in a future release, at which point use of ``build_fn`` will raise an Error instead.\n",
            "  X, y = self._initialize(X, y)\n",
            "/usr/local/lib/python3.10/dist-packages/scikeras/wrappers.py:915: UserWarning: ``build_fn`` will be renamed to ``model`` in a future release, at which point use of ``build_fn`` will raise an Error instead.\n",
            "  X, y = self._initialize(X, y)\n",
            "/usr/local/lib/python3.10/dist-packages/scikeras/wrappers.py:915: UserWarning: ``build_fn`` will be renamed to ``model`` in a future release, at which point use of ``build_fn`` will raise an Error instead.\n",
            "  X, y = self._initialize(X, y)\n",
            "/usr/local/lib/python3.10/dist-packages/scikeras/wrappers.py:915: UserWarning: ``build_fn`` will be renamed to ``model`` in a future release, at which point use of ``build_fn`` will raise an Error instead.\n",
            "  X, y = self._initialize(X, y)\n",
            "/usr/local/lib/python3.10/dist-packages/scikeras/wrappers.py:915: UserWarning: ``build_fn`` will be renamed to ``model`` in a future release, at which point use of ``build_fn`` will raise an Error instead.\n",
            "  X, y = self._initialize(X, y)\n",
            "/usr/local/lib/python3.10/dist-packages/scikeras/wrappers.py:915: UserWarning: ``build_fn`` will be renamed to ``model`` in a future release, at which point use of ``build_fn`` will raise an Error instead.\n",
            "  X, y = self._initialize(X, y)\n",
            "/usr/local/lib/python3.10/dist-packages/scikeras/wrappers.py:915: UserWarning: ``build_fn`` will be renamed to ``model`` in a future release, at which point use of ``build_fn`` will raise an Error instead.\n",
            "  X, y = self._initialize(X, y)\n",
            "/usr/local/lib/python3.10/dist-packages/scikeras/wrappers.py:915: UserWarning: ``build_fn`` will be renamed to ``model`` in a future release, at which point use of ``build_fn`` will raise an Error instead.\n",
            "  X, y = self._initialize(X, y)\n"
          ]
        },
        {
          "output_type": "stream",
          "name": "stdout",
          "text": [
            "Best: 0.735451 using {'batch_size': 256, 'build_fn': <function create_model at 0x7921d3ebecb0>, 'epochs': 16, 'optimizer': 'rmsprop'}\n"
          ]
        }
      ]
    },
    {
      "cell_type": "markdown",
      "source": [
        "Best parameters"
      ],
      "metadata": {
        "id": "yfqqXrGsqbkt"
      }
    },
    {
      "cell_type": "code",
      "source": [
        "best_activation = 'relu'\n",
        "best_optimizer = 'rmsprop'\n",
        "best_epochs = 16\n",
        "best_batch_size = 256\n",
        "\n",
        "best_model = create_model(activation=best_activation, optimizer=best_optimizer, epochs=best_epochs, batch_size=best_batch_size)\n",
        "\n",
        "history = best_model.fit(X_train_val, y_train_val, epochs=best_epochs, batch_size=best_batch_size, validation_data=(X_val, y_val))\n",
        "\n",
        "test_results = best_model.evaluate(X_test, one_hot_test_labels)\n",
        "print(\"*\" * 100)\n",
        "print(\"Test Results: Loss and Accuracy\")\n",
        "print(\"Results:\", test_results)\n",
        "\n",
        "training_history_dict = history.history\n",
        "print(\"Training History Keys:\", training_history_dict.keys())"
      ],
      "metadata": {
        "colab": {
          "base_uri": "https://localhost:8080/"
        },
        "id": "qmGrdRJQcojC",
        "outputId": "61652571-ef81-4522-a966-9c49c64eb2bc"
      },
      "execution_count": null,
      "outputs": [
        {
          "output_type": "stream",
          "name": "stdout",
          "text": [
            "Epoch 1/16\n",
            "27/27 [==============================] - 2s 30ms/step - loss: 3.1525 - accuracy: 0.4170 - val_loss: 2.3488 - val_accuracy: 0.5512\n",
            "Epoch 2/16\n",
            "27/27 [==============================] - 0s 13ms/step - loss: 2.0297 - accuracy: 0.6038 - val_loss: 1.9908 - val_accuracy: 0.6198\n",
            "Epoch 3/16\n",
            "27/27 [==============================] - 0s 15ms/step - loss: 1.6536 - accuracy: 0.6891 - val_loss: 1.7157 - val_accuracy: 0.6888\n",
            "Epoch 4/16\n",
            "27/27 [==============================] - 0s 14ms/step - loss: 1.4063 - accuracy: 0.7372 - val_loss: 1.6433 - val_accuracy: 0.6915\n",
            "Epoch 5/16\n",
            "27/27 [==============================] - 0s 13ms/step - loss: 1.2308 - accuracy: 0.7743 - val_loss: 1.5177 - val_accuracy: 0.7266\n",
            "Epoch 6/16\n",
            "27/27 [==============================] - 0s 12ms/step - loss: 1.0897 - accuracy: 0.8116 - val_loss: 1.5512 - val_accuracy: 0.7204\n",
            "Epoch 7/16\n",
            "27/27 [==============================] - 0s 13ms/step - loss: 0.9922 - accuracy: 0.8308 - val_loss: 1.4421 - val_accuracy: 0.7569\n",
            "Epoch 8/16\n",
            "27/27 [==============================] - 0s 13ms/step - loss: 0.9050 - accuracy: 0.8483 - val_loss: 1.4408 - val_accuracy: 0.7542\n",
            "Epoch 9/16\n",
            "27/27 [==============================] - 0s 16ms/step - loss: 0.8274 - accuracy: 0.8655 - val_loss: 1.4740 - val_accuracy: 0.7449\n",
            "Epoch 10/16\n",
            "27/27 [==============================] - 0s 13ms/step - loss: 0.7689 - accuracy: 0.8784 - val_loss: 1.4365 - val_accuracy: 0.7640\n",
            "Epoch 11/16\n",
            "27/27 [==============================] - 1s 19ms/step - loss: 0.7262 - accuracy: 0.8922 - val_loss: 1.6087 - val_accuracy: 0.7453\n",
            "Epoch 12/16\n",
            "27/27 [==============================] - 0s 16ms/step - loss: 0.6773 - accuracy: 0.9091 - val_loss: 1.5005 - val_accuracy: 0.7551\n",
            "Epoch 13/16\n",
            "27/27 [==============================] - 0s 16ms/step - loss: 0.6409 - accuracy: 0.9169 - val_loss: 1.6129 - val_accuracy: 0.7480\n",
            "Epoch 14/16\n",
            "27/27 [==============================] - 0s 18ms/step - loss: 0.6069 - accuracy: 0.9281 - val_loss: 1.6287 - val_accuracy: 0.7493\n",
            "Epoch 15/16\n",
            "27/27 [==============================] - 1s 19ms/step - loss: 0.5954 - accuracy: 0.9327 - val_loss: 1.5159 - val_accuracy: 0.7636\n",
            "Epoch 16/16\n",
            "27/27 [==============================] - 0s 18ms/step - loss: 0.5723 - accuracy: 0.9385 - val_loss: 1.6495 - val_accuracy: 0.7427\n",
            "71/71 [==============================] - 0s 3ms/step - loss: 1.6963 - accuracy: 0.7235\n",
            "****************************************************************************************************\n",
            "Test Results: Loss and Accuracy\n",
            "Results: [1.696250319480896, 0.7235084772109985]\n",
            "Training History Keys: dict_keys(['loss', 'accuracy', 'val_loss', 'val_accuracy'])\n"
          ]
        }
      ]
    },
    {
      "cell_type": "code",
      "source": [
        "epochs_range = range(1, best_epochs + 1)\n",
        "plt.figure(figsize=(16, 6))\n",
        "\n",
        "plt.subplot(1, 2, 1)\n",
        "plt.plot(epochs_range, training_history_dict['loss'], label='Training Loss')\n",
        "plt.plot(epochs_range, training_history_dict['val_loss'], label='Validation Loss')\n",
        "plt.title('Training and Validation Loss')\n",
        "plt.xlabel('Epochs')\n",
        "plt.ylabel('Loss')\n",
        "plt.legend()"
      ],
      "metadata": {
        "colab": {
          "base_uri": "https://localhost:8080/",
          "height": 581
        },
        "id": "kkkATO-5J2g3",
        "outputId": "46278a22-33e1-48e5-baf9-07eddeb60e7b"
      },
      "execution_count": null,
      "outputs": [
        {
          "output_type": "execute_result",
          "data": {
            "text/plain": [
              "<matplotlib.legend.Legend at 0x7921d4e11630>"
            ]
          },
          "metadata": {},
          "execution_count": 22
        },
        {
          "output_type": "display_data",
          "data": {
            "text/plain": [
              "<Figure size 1600x600 with 1 Axes>"
            ],
            "image/png": "[encoded data removed]"
          },
          "metadata": {}
        }
      ]
    },
    {
      "cell_type": "code",
      "source": [
        "plt.figure(figsize=(16, 6))\n",
        "\n",
        "plt.subplot(1, 2, 2)\n",
        "plt.plot(epochs_range, training_history_dict['accuracy'], label='Training Accuracy')\n",
        "plt.plot(epochs_range, training_history_dict['val_accuracy'], label='Validation Accuracy')\n",
        "plt.title('Training and Validation Accuracy')\n",
        "plt.xlabel('Epochs')\n",
        "plt.ylabel('Accuracy')\n",
        "plt.legend()\n",
        "\n",
        "plt.tight_layout()\n",
        "plt.show()"
      ],
      "metadata": {
        "colab": {
          "base_uri": "https://localhost:8080/",
          "height": 607
        },
        "id": "AqGefzlJKUC-",
        "outputId": "53ffabf8-72cb-40b7-8619-e29ded4ff284"
      },
      "execution_count": null,
      "outputs": [
        {
          "output_type": "display_data",
          "data": {
            "text/plain": [
              "<Figure size 1600x600 with 1 Axes>"
            ],
            "image/png": "[encoded data removed]"
          },
          "metadata": {}
        }
      ]
    },
    {
      "cell_type": "markdown",
      "source": [
        "Model optimization"
      ],
      "metadata": {
        "id": "NPkePBA0qhaa"
      }
    },
    {
      "cell_type": "code",
      "source": [
        "y_true = np.argmax(one_hot_test_labels, axis=1)\n",
        "y_pred_probabilities = best_model.predict(X_test)\n",
        "y_pred = np.argmax(y_pred_probabilities, axis=1)\n",
        "\n",
        "accuracy = accuracy_score(y_true, y_pred)\n",
        "precision = precision_score(y_true, y_pred, average='weighted')\n",
        "recall = recall_score(y_true, y_pred, average='weighted')\n",
        "f1 = f1_score(y_true, y_pred, average='weighted')\n",
        "\n",
        "print(f\"Accuracy: {accuracy:.4f}\")\n",
        "print(f\"Precision: {precision:.4f}\")\n",
        "print(f\"Recall: {recall:.4f}\")\n",
        "print(f\"F1-Score: {f1:.4f}\")\n",
        "\n",
        "print(\"\\nClassification Report:\")\n",
        "print(classification_report(y_true, y_pred))"
      ],
      "metadata": {
        "colab": {
          "base_uri": "https://localhost:8080/"
        },
        "id": "2jC5CVpFLCzb",
        "outputId": "eac3c873-1dca-4e2b-8a14-9f5145ed18eb"
      },
      "execution_count": null,
      "outputs": [
        {
          "output_type": "stream",
          "name": "stdout",
          "text": [
            "71/71 [==============================] - 0s 3ms/step\n",
            "Accuracy: 0.7235\n",
            "Precision: 0.7367\n",
            "Recall: 0.7235\n",
            "F1-Score: 0.7133\n",
            "\n",
            "Classification Report:\n",
            "              precision    recall  f1-score   support\n",
            "\n",
            "           0       0.88      0.58      0.70        12\n",
            "           1       0.55      0.79      0.65       105\n",
            "           2       0.67      0.50      0.57        20\n",
            "           3       0.89      0.94      0.92       813\n",
            "           4       0.92      0.74      0.82       474\n",
            "           5       0.00      0.00      0.00         5\n",
            "           6       0.92      0.79      0.85        14\n",
            "           7       1.00      0.33      0.50         3\n",
            "           8       0.62      0.55      0.58        38\n",
            "           9       0.50      0.52      0.51        25\n",
            "          10       0.94      0.57      0.71        30\n",
            "          11       0.50      0.72      0.59        83\n",
            "          12       0.33      0.08      0.12        13\n",
            "          13       0.45      0.35      0.39        37\n",
            "          14       0.00      0.00      0.00         2\n",
            "          15       0.50      0.11      0.18         9\n",
            "          16       0.45      0.76      0.56        99\n",
            "          17       1.00      0.08      0.15        12\n",
            "          18       0.48      0.60      0.53        20\n",
            "          19       0.65      0.63      0.64       133\n",
            "          20       0.32      0.64      0.42        70\n",
            "          21       0.60      0.44      0.51        27\n",
            "          22       0.00      0.00      0.00         7\n",
            "          23       0.33      0.08      0.13        12\n",
            "          24       0.40      0.42      0.41        19\n",
            "          25       0.59      0.52      0.55        31\n",
            "          26       1.00      0.12      0.22         8\n",
            "          27       0.00      0.00      0.00         4\n",
            "          28       0.00      0.00      0.00        10\n",
            "          29       0.00      0.00      0.00         4\n",
            "          30       0.50      0.08      0.14        12\n",
            "          31       0.25      0.23      0.24        13\n",
            "          32       0.67      0.20      0.31        10\n",
            "          33       0.80      0.80      0.80         5\n",
            "          34       1.00      0.29      0.44         7\n",
            "          35       0.00      0.00      0.00         6\n",
            "          36       0.00      0.00      0.00        11\n",
            "          37       0.00      0.00      0.00         2\n",
            "          38       0.00      0.00      0.00         3\n",
            "          39       0.00      0.00      0.00         5\n",
            "          40       0.50      0.10      0.17        10\n",
            "          41       0.50      0.12      0.20         8\n",
            "          42       0.00      0.00      0.00         3\n",
            "          43       0.38      0.50      0.43         6\n",
            "          44       0.00      0.00      0.00         5\n",
            "          45       1.00      1.00      1.00         1\n",
            "\n",
            "    accuracy                           0.72      2246\n",
            "   macro avg       0.46      0.33      0.35      2246\n",
            "weighted avg       0.74      0.72      0.71      2246\n",
            "\n"
          ]
        },
        {
          "output_type": "stream",
          "name": "stderr",
          "text": [
            "/usr/local/lib/python3.10/dist-packages/sklearn/metrics/_classification.py:1344: UndefinedMetricWarning: Precision is ill-defined and being set to 0.0 in labels with no predicted samples. Use `zero_division` parameter to control this behavior.\n",
            "  _warn_prf(average, modifier, msg_start, len(result))\n",
            "/usr/local/lib/python3.10/dist-packages/sklearn/metrics/_classification.py:1344: UndefinedMetricWarning: Precision and F-score are ill-defined and being set to 0.0 in labels with no predicted samples. Use `zero_division` parameter to control this behavior.\n",
            "  _warn_prf(average, modifier, msg_start, len(result))\n",
            "/usr/local/lib/python3.10/dist-packages/sklearn/metrics/_classification.py:1344: UndefinedMetricWarning: Precision and F-score are ill-defined and being set to 0.0 in labels with no predicted samples. Use `zero_division` parameter to control this behavior.\n",
            "  _warn_prf(average, modifier, msg_start, len(result))\n",
            "/usr/local/lib/python3.10/dist-packages/sklearn/metrics/_classification.py:1344: UndefinedMetricWarning: Precision and F-score are ill-defined and being set to 0.0 in labels with no predicted samples. Use `zero_division` parameter to control this behavior.\n",
            "  _warn_prf(average, modifier, msg_start, len(result))\n"
          ]
        }
      ]
    }
  ]
}